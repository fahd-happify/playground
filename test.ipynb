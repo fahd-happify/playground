{
 "cells": [
  {
   "cell_type": "code",
   "execution_count": 1,
   "id": "0b0439bc-0697-44df-9410-6ed718acaf69",
   "metadata": {},
   "outputs": [
    {
     "name": "stderr",
     "output_type": "stream",
     "text": [
      "/Users/Fahd_Alhazmi/mambaforge/envs/lightfmtest/lib/python3.9/site-packages/lightfm/_lightfm_fast.py:9: UserWarning: LightFM was compiled without OpenMP support. Only a single thread will be used.\n",
      "  warnings.warn(\n"
     ]
    }
   ],
   "source": [
    "import numpy as np\n",
    "\n",
    "from lightfm import LightFM\n",
    "from lightfm.datasets import fetch_movielens\n",
    "from lightfm.evaluation import precision_at_k, auc_score"
   ]
  },
  {
   "cell_type": "code",
   "execution_count": 160,
   "id": "4e1d4ab8-5574-42e4-9243-bf8228b1e375",
   "metadata": {},
   "outputs": [],
   "source": [
    "# Load the MovieLens 100k dataset. Only five\n",
    "# star ratings are treated as positive.\n",
    "data = fetch_movielens(data_home='data',min_rating=1.0)"
   ]
  },
  {
   "cell_type": "markdown",
   "id": "3f538347-a020-4cd5-a491-414efa79de45",
   "metadata": {},
   "source": [
    "lightFM model"
   ]
  },
  {
   "cell_type": "code",
   "execution_count": 184,
   "id": "d35cb021-c705-448b-84f8-c1be61562d14",
   "metadata": {},
   "outputs": [],
   "source": [
    "# Instantiate and train the model\n",
    "model = LightFM(loss='warp')"
   ]
  },
  {
   "cell_type": "code",
   "execution_count": 185,
   "id": "6252fe75-4406-43bf-8e0d-0a9ff61de86d",
   "metadata": {},
   "outputs": [
    {
     "data": {
      "text/plain": [
       "<lightfm.lightfm.LightFM at 0x29c2fb700>"
      ]
     },
     "execution_count": 185,
     "metadata": {},
     "output_type": "execute_result"
    }
   ],
   "source": [
    "model.fit(data['train'], epochs=30)"
   ]
  },
  {
   "cell_type": "code",
   "execution_count": 186,
   "id": "a7baefc8-bd42-4f29-9efb-6906afe364d4",
   "metadata": {},
   "outputs": [
    {
     "name": "stdout",
     "output_type": "stream",
     "text": [
      "Precision: train 0.64, test 0.11.\n",
      "AUC: train 0.95, test 0.91.\n"
     ]
    }
   ],
   "source": [
    "train_precision = precision_at_k(model, data['train'], k=10).mean()\n",
    "test_precision = precision_at_k(model, data['test'], k=10).mean()\n",
    "\n",
    "train_auc = auc_score(model, data['train']).mean()\n",
    "test_auc = auc_score(model, data['test']).mean()\n",
    "\n",
    "print('Precision: train %.2f, test %.2f.' % (train_precision, test_precision))\n",
    "print('AUC: train %.2f, test %.2f.' % (train_auc, test_auc))"
   ]
  },
  {
   "cell_type": "code",
   "execution_count": 192,
   "id": "53e32566-bc4d-4cc2-8911-7f6adc37468a",
   "metadata": {},
   "outputs": [],
   "source": [
    "def sample_recommendation(model, data, user_ids):\n",
    "    n_users, n_items = data['train'].shape\n",
    "    for user_id in user_ids:\n",
    "        known_positives_indx = data['train'].tocsr()[user_id].indices       \n",
    "\n",
    "        scores = model.predict(user_id, np.arange(n_items))\n",
    "        top_items_indx = np.argsort(-scores)\n",
    "        \n",
    "        print(\"User %s\" % user_id)\n",
    "        print(\"     Known positives:\")\n",
    "        \n",
    "        for x in known_positives_indx[:3]:\n",
    "            print(\"       {}: {}\" .format(x, data['item_labels'][x]))\n",
    "\n",
    "        print(\"     Recommended:\")\n",
    "        \n",
    "        for x in top_items_indx[:3]:\n",
    "            print(\"        {}: {}\" .format(x, data['item_labels'][x]))\n"
   ]
  },
  {
   "cell_type": "code",
   "execution_count": 193,
   "id": "d5b0fd5c-9c07-49fb-b0b8-7b12545f73bf",
   "metadata": {},
   "outputs": [
    {
     "name": "stdout",
     "output_type": "stream",
     "text": [
      "User 33\n",
      "     Known positives:\n",
      "       287: Scream (1996)\n",
      "       288: Evita (1996)\n",
      "       291: Rosewood (1997)\n",
      "     Recommended:\n",
      "        299: Air Force One (1997)\n",
      "        285: English Patient, The (1996)\n",
      "        327: Conspiracy Theory (1997)\n"
     ]
    }
   ],
   "source": [
    "sample_recommendation(model, data, [33])"
   ]
  },
  {
   "cell_type": "code",
   "execution_count": null,
   "id": "3301db65-9f6f-4365-8877-49201965e773",
   "metadata": {},
   "outputs": [],
   "source": []
  }
 ],
 "metadata": {
  "kernelspec": {
   "display_name": "Python 3 (ipykernel)",
   "language": "python",
   "name": "python3"
  },
  "language_info": {
   "codemirror_mode": {
    "name": "ipython",
    "version": 3
   },
   "file_extension": ".py",
   "mimetype": "text/x-python",
   "name": "python",
   "nbconvert_exporter": "python",
   "pygments_lexer": "ipython3",
   "version": "3.9.13"
  }
 },
 "nbformat": 4,
 "nbformat_minor": 5
}
