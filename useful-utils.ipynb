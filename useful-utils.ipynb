{
 "cells": [
  {
   "cell_type": "code",
   "execution_count": 1,
   "id": "63776347-c969-411f-b61a-42346c110fc7",
   "metadata": {},
   "outputs": [
    {
     "name": "stderr",
     "output_type": "stream",
     "text": [
      "/Users/Fahd_Alhazmi/mambaforge/envs/lightfmtest/lib/python3.9/site-packages/lightfm/_lightfm_fast.py:9: UserWarning: LightFM was compiled without OpenMP support. Only a single thread will be used.\n",
      "  warnings.warn(\n"
     ]
    }
   ],
   "source": [
    "import numpy as np\n",
    "from lightfm import LightFM\n",
    "from lightfm.datasets import fetch_stackexchange, fetch_movielens\n",
    "from lightfm.evaluation import precision_at_k, auc_score\n",
    "\n",
    "from scipy.spatial.distance import cdist"
   ]
  },
  {
   "cell_type": "code",
   "execution_count": null,
   "id": "001837ca-45e2-408b-9742-7d2d410d0202",
   "metadata": {},
   "outputs": [],
   "source": [
    "def print_log(row, header=False, spacing=12):\n",
    "    top = ''\n",
    "    middle = ''\n",
    "    bottom = ''\n",
    "    for r in row:\n",
    "        top += '+{}'.format('-'*spacing)\n",
    "        if isinstance(r, str):\n",
    "            middle += '| {0:^{1}} '.format(r, spacing-2)\n",
    "        elif isinstance(r, int):\n",
    "            middle += '| {0:^{1}} '.format(r, spacing-2)\n",
    "        elif (isinstance(r, float)\n",
    "              or isinstance(r, np.float32)\n",
    "              or isinstance(r, np.float64)):\n",
    "            middle += '| {0:^{1}.5f} '.format(r, spacing-2)\n",
    "        bottom += '+{}'.format('='*spacing)\n",
    "    top += '+'\n",
    "    middle += '|'\n",
    "    bottom += '+'\n",
    "    if header:\n",
    "        print(top)\n",
    "        print(middle)\n",
    "        print(bottom)\n",
    "    else:\n",
    "        print(middle)\n",
    "        print(top)\n",
    "\n",
    "def patk_learning_curve(model, train, test, eval_train,\n",
    "                        iterarray, user_features=None,\n",
    "                        item_features=None, k=5,\n",
    "                        **fit_params):\n",
    "    old_epoch = 0\n",
    "    train_patk = []\n",
    "    test_patk = []\n",
    "    headers = ['Epoch', 'train p@{}'.format(k), 'test p@{}'.format(k)]\n",
    "    print_log(headers, header=True)\n",
    "    for epoch in iterarray:\n",
    "        more = epoch - old_epoch\n",
    "        model.fit_partial(train, \n",
    "                          user_features=user_features,\n",
    "                          item_features=item_features,\n",
    "                          epochs=more, \n",
    "                          **fit_params)\n",
    "        this_test = precision_at_k(model, test, train_interactions=None, k=k)\n",
    "        this_train = precision_at_k(model, eval_train, train_interactions=None, k=k)\n",
    "\n",
    "        train_patk.append(np.mean(this_train))\n",
    "        test_patk.append(np.mean(this_test))\n",
    "        row = [epoch, train_patk[-1], test_patk[-1]]\n",
    "        print_log(row)\n",
    "    return model, train_patk, test_patk\n"
   ]
  },
  {
   "cell_type": "code",
   "execution_count": null,
   "id": "b4695ab1-b08b-4193-bdb7-5bf821b42d1d",
   "metadata": {},
   "outputs": [],
   "source": [
    "eval_train = train\n",
    "\n",
    "# user_index = np.arange(train.shape[0])\n",
    "# eval_train = train.copy()\n",
    "# non_eval_users = list(set(range(train.shape[0])) - set(user_index))\n",
    "# eval_train = eval_train.tolil()\n",
    "# for u in non_eval_users:\n",
    "#     eval_train[u, :] = 0.0\n",
    "# eval_train = eval_train.tocsr()"
   ]
  },
  {
   "cell_type": "code",
   "execution_count": null,
   "id": "04ea9786-41ed-4df4-9aa8-d2afed7f754a",
   "metadata": {},
   "outputs": [],
   "source": [
    "# Instantiate and train the model\n",
    "model = LightFM(no_components=20, loss='warp', user_alpha=0, item_alpha=0, random_state=42)"
   ]
  },
  {
   "cell_type": "code",
   "execution_count": null,
   "id": "69e50ada-e570-4703-85e7-8784f579d17a",
   "metadata": {},
   "outputs": [],
   "source": [
    "model.fit(train, epochs=0);\n",
    "iterarray = range(10, 60, 10)\n",
    "model, train_patk, test_patk = patk_learning_curve(\n",
    "    model, train, test, eval_train, iterarray, k=10, **{'num_threads': 1}\n",
    ")\n"
   ]
  },
  {
   "cell_type": "code",
   "execution_count": null,
   "id": "98913175-8940-4209-a8e0-376423e5b119",
   "metadata": {},
   "outputs": [],
   "source": [
    "# from skopt import forest_minimize\n",
    "# def objective(params):\n",
    "#     # unpack\n",
    "#     epochs, learning_rate, no_components, alpha = params\n",
    "    \n",
    "#     user_alpha = alpha\n",
    "#     item_alpha = alpha\n",
    "#     model = LightFM(loss='warp',\n",
    "#                     random_state=42,\n",
    "#                     learning_rate=learning_rate,\n",
    "#                     no_components=no_components,\n",
    "#                     user_alpha=user_alpha,\n",
    "#                     item_alpha=item_alpha)\n",
    "#     model.fit(train, epochs=epochs, num_threads=4, verbose=True)    \n",
    "#     patks = precision_at_k(model, test, train_interactions=None, k=5, num_threads=4)\n",
    "#     mapatk = np.mean(patks)\n",
    "    \n",
    "#     # Make negative because we want to _minimize_ objective\n",
    "#     out = -mapatk\n",
    "    \n",
    "#     # Handle some weird numerical shit going on\n",
    "#     if np.abs(out + 1) < 0.01 or out < -1.0:\n",
    "#         return 0.0\n",
    "#     else:\n",
    "#         return out\n",
    "\n",
    "# space = [(1, 260), # epochs\n",
    "#          (10**-4, 1.0, 'log-uniform'), # learning_rate\n",
    "#          (20, 200), # no_components\n",
    "#          (10**-6, 10**-1, 'log-uniform'), # alpha\n",
    "#         ]\n",
    "# res_fm = forest_minimize(objective, space, n_calls=250,\n",
    "#                      random_state=0,\n",
    "#                      verbose=True)\n",
    "# print('Maximimum p@k found: {:6.5f}'.format(-res_fm.fun))\n",
    "# print('Optimal parameters:')\n",
    "# params = ['epochs', 'learning_rate', 'no_components', 'alpha']\n",
    "# for (p, x_) in zip(params, res_fm.x):\n",
    "#     print('{}: {}'.format(p, x_))\n"
   ]
  }
 ],
 "metadata": {
  "kernelspec": {
   "display_name": "Python 3 (ipykernel)",
   "language": "python",
   "name": "python3"
  },
  "language_info": {
   "codemirror_mode": {
    "name": "ipython",
    "version": 3
   },
   "file_extension": ".py",
   "mimetype": "text/x-python",
   "name": "python",
   "nbconvert_exporter": "python",
   "pygments_lexer": "ipython3",
   "version": "3.9.13"
  }
 },
 "nbformat": 4,
 "nbformat_minor": 5
}
