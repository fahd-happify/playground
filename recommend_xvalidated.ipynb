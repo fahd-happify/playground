{
 "cells": [
  {
   "cell_type": "code",
   "execution_count": 1,
   "id": "989131ff-3084-4d2e-97a2-b75edb543f83",
   "metadata": {},
   "outputs": [
    {
     "name": "stderr",
     "output_type": "stream",
     "text": [
      "/Users/Fahd_Alhazmi/mambaforge/envs/lightfmtest/lib/python3.9/site-packages/lightfm/_lightfm_fast.py:9: UserWarning: LightFM was compiled without OpenMP support. Only a single thread will be used.\n",
      "  warnings.warn(\n"
     ]
    }
   ],
   "source": [
    "import numpy as np\n",
    "from lightfm import LightFM\n",
    "from lightfm.datasets import fetch_stackexchange, fetch_movielens\n",
    "from lightfm.evaluation import precision_at_k, auc_score\n",
    "\n",
    "from scipy.spatial.distance import cdist"
   ]
  },
  {
   "cell_type": "code",
   "execution_count": 2,
   "id": "2763c787-2e12-4580-b85a-d6cbf88019fb",
   "metadata": {},
   "outputs": [],
   "source": [
    "import seaborn as sns"
   ]
  },
  {
   "cell_type": "code",
   "execution_count": 3,
   "id": "4e1d4ab8-5574-42e4-9243-bf8228b1e375",
   "metadata": {},
   "outputs": [],
   "source": [
    "# Load the MovieLens 100k dataset. Only five\n",
    "# star ratings are treated as positive.\n",
    "data = fetch_stackexchange(dataset='crossvalidated', data_home='data', indicator_features=False, tag_features=True)"
   ]
  },
  {
   "cell_type": "code",
   "execution_count": 4,
   "id": "88d8073b-072b-4a71-9b74-060c9fa7b6c9",
   "metadata": {},
   "outputs": [
    {
     "data": {
      "text/plain": [
       "((72360, 1246), (1246,))"
      ]
     },
     "execution_count": 4,
     "metadata": {},
     "output_type": "execute_result"
    }
   ],
   "source": [
    "data['item_features'].shape, data['item_feature_labels'].shape"
   ]
  },
  {
   "cell_type": "code",
   "execution_count": 5,
   "id": "af3ad9cf-48bc-4647-8c3d-b73f3d687f9f",
   "metadata": {},
   "outputs": [],
   "source": [
    "train, test, features = data['train'], data['test'], data['item_features']"
   ]
  },
  {
   "cell_type": "code",
   "execution_count": 6,
   "id": "a955c1c4-a0de-4b03-b851-abb456817db8",
   "metadata": {},
   "outputs": [],
   "source": [
    "# LightFM?"
   ]
  },
  {
   "cell_type": "code",
   "execution_count": 7,
   "id": "d35cb021-c705-448b-84f8-c1be61562d14",
   "metadata": {},
   "outputs": [],
   "source": [
    "# Instantiate and train the model\n",
    "model = LightFM(no_components=20, loss='warp', user_alpha=0, item_alpha=0, random_state=42)"
   ]
  },
  {
   "cell_type": "code",
   "execution_count": 8,
   "id": "6252fe75-4406-43bf-8e0d-0a9ff61de86d",
   "metadata": {},
   "outputs": [
    {
     "name": "stdout",
     "output_type": "stream",
     "text": [
      "CPU times: user 1.06 s, sys: 5.1 ms, total: 1.06 s\n",
      "Wall time: 1.06 s\n"
     ]
    },
    {
     "data": {
      "text/plain": [
       "<lightfm.lightfm.LightFM at 0x14adb5880>"
      ]
     },
     "execution_count": 8,
     "metadata": {},
     "output_type": "execute_result"
    }
   ],
   "source": [
    "%time model.fit(train, epochs=20, item_features=features)"
   ]
  },
  {
   "cell_type": "code",
   "execution_count": 9,
   "id": "fdb72203-cd8d-468d-82ce-4afe3eecd68e",
   "metadata": {},
   "outputs": [],
   "source": [
    "def get_similar(query = 'regression', n = 10):    \n",
    "    row_id = np.where(query == data['item_feature_labels'])[0][0]\n",
    "    tag_embeddings = (model.item_embeddings.T / np.linalg.norm(model.item_embeddings, axis=1)).T\n",
    "    query_embedding= tag_embeddings[row_id,:]\n",
    "    # similarity = np.dot(query_embedding, tag_embeddings.T)\n",
    "    similarity = 1 - cdist(np.asmatrix(query_embedding), tag_embeddings, metric='cosine')[0]\n",
    "    most_similar = np.argsort(-similarity)[:n]\n",
    "    return data['item_feature_labels'][most_similar]"
   ]
  },
  {
   "cell_type": "code",
   "execution_count": 10,
   "id": "e5b91ca2-99b9-47c8-b332-6f28b662a27c",
   "metadata": {},
   "outputs": [
    {
     "data": {
      "text/plain": [
       "array(['pca', 'discriminant-analysis', 'steins-phenomenon',\n",
       "       'dimensionality-reduction', 'svd', 'pls', 'manova',\n",
       "       'canonical-correlation', 'quotation', 'suppressor'], dtype='<U50')"
      ]
     },
     "execution_count": 10,
     "metadata": {},
     "output_type": "execute_result"
    }
   ],
   "source": [
    "get_similar('pca')"
   ]
  },
  {
   "cell_type": "code",
   "execution_count": 11,
   "id": "a7baefc8-bd42-4f29-9efb-6906afe364d4",
   "metadata": {},
   "outputs": [
    {
     "name": "stdout",
     "output_type": "stream",
     "text": [
      "Precision: test 0.01.\n",
      "AUC: test 0.72.\n"
     ]
    }
   ],
   "source": [
    "test_precision = precision_at_k(model, test, train_interactions=train, item_features=features).mean()\n",
    "print('Precision: test %.2f.' % (test_precision))\n",
    "\n",
    "test_auc = auc_score(model, test, train_interactions=train, item_features=features).mean()\n",
    "print('AUC: test %.2f.' % (test_auc))"
   ]
  },
  {
   "cell_type": "code",
   "execution_count": 12,
   "id": "5252d392-21e8-4ad9-98ba-6c727a28a426",
   "metadata": {
    "tags": []
   },
   "outputs": [],
   "source": [
    "## def sample_recommendation(model, data, user_ids):\n",
    "#     n_users, n_items = data['train'].shape\n",
    "#     for user_id in user_ids:\n",
    "#         known_positives_indx = data['train'].tocsr()[user_id].indices       \n",
    "\n",
    "#         scores = model.predict(user_id, np.arange(n_items))\n",
    "#         top_items_indx = np.argsort(-scores)\n",
    "        \n",
    "#         print(\"User %s\" % user_id)\n",
    "#         print(\"     Known positives:\")\n",
    "        \n",
    "#         for x in known_positives_indx[:3]:\n",
    "#             print(\"       {}: {}\" .format(x, data['item_feature_labels'][x]))\n",
    "\n",
    "#         print(\"     Recommended:\")\n",
    "        \n",
    "#         for x in top_items_indx[:3]:\n",
    "#             print(\"        {}: {}\" .format(x, data['item_feature_labels'][x]))\n"
   ]
  },
  {
   "cell_type": "code",
   "execution_count": 13,
   "id": "d5b0fd5c-9c07-49fb-b0b8-7b12545f73bf",
   "metadata": {},
   "outputs": [],
   "source": [
    "# sample_recommendation(model, data, [33])"
   ]
  },
  {
   "cell_type": "code",
   "execution_count": null,
   "id": "5c16e21a-b101-49db-9d3a-6a083011c2cf",
   "metadata": {},
   "outputs": [],
   "source": []
  },
  {
   "cell_type": "code",
   "execution_count": null,
   "id": "ffbcc277-cd06-40d5-bfed-21bb74e10a13",
   "metadata": {},
   "outputs": [],
   "source": []
  },
  {
   "cell_type": "code",
   "execution_count": 14,
   "id": "9ddf763a-f23a-4faf-ae09-4df6cb5abea7",
   "metadata": {},
   "outputs": [],
   "source": [
    "# import numpy as np\n",
    "# # from scipy.stats import pearsonr, linregress\n",
    "# # from sklearn.decomposition import PCA\n",
    "# from scipy.spatial.distance import cdist"
   ]
  },
  {
   "cell_type": "code",
   "execution_count": 15,
   "id": "953069cf-500d-4cb9-a284-8643bdfb97fe",
   "metadata": {},
   "outputs": [],
   "source": [
    "# n_iterations = 10\n",
    "# correlations = np.zeros((50,50,n_iterations))*np.nan"
   ]
  },
  {
   "cell_type": "code",
   "execution_count": 16,
   "id": "24b00a7f-ff63-47c9-a027-07b6ecdc00f6",
   "metadata": {},
   "outputs": [],
   "source": [
    "# data['train'] = data['train'].tocsr()\n",
    "# data['item_features'] = data['item_features'].tocsr()"
   ]
  },
  {
   "cell_type": "code",
   "execution_count": 17,
   "id": "fae008d1-9df7-48ea-92a0-816f834ca244",
   "metadata": {
    "tags": []
   },
   "outputs": [],
   "source": [
    "# n_users, n_items = data['train'].shape\n",
    "# n_users, n_items"
   ]
  },
  {
   "cell_type": "code",
   "execution_count": 18,
   "id": "dd6bcc68-8636-47c4-8c18-25d00c9341b6",
   "metadata": {},
   "outputs": [],
   "source": [
    "# for i in range(n_iterations):\n",
    "#     this_correlations = []\n",
    "#     this_pvalues = []\n",
    "    \n",
    "#     half1_idx = np.random.choice(n_items, n_items//2, replace=False)\n",
    "#     half2_idx = np.setdiff1d(np.arange(n_items), half1_idx)\n",
    "#     # half1_idx.shape, half2_idx.shape\n",
    "#     assert n_items == (len(half1_idx) + len(half2_idx))\n",
    "#     # data['train'].shape, data['item_features'].shape\n",
    "    \n",
    "#     # half 1\n",
    "#     half1_train = data['train'][:, half1_idx]\n",
    "#     half1_features= data['item_features'][half1_idx, :]\n",
    "    \n",
    "#     half1_model = LightFM(no_components=50, loss='warp', user_alpha=0, item_alpha=0, random_state=42)\n",
    "#     half1_model.fit(half1_train, epochs=30, item_features=half1_features)\n",
    "#     half1_item_embeddings = half1_model.item_embeddings\n",
    "    \n",
    "#     # half1_model = PCA(n_components=100)\n",
    "#     # half1_item_embeddings = half1_model.fit_transform(half1_train.todense())\n",
    "\n",
    "#     # half 2\n",
    "#     half2_train = data['train'][:, half2_idx]\n",
    "#     half2_features= data['item_features'][half2_idx, :]\n",
    "    \n",
    "#     half2_model = LightFM(no_components=50, loss='warp', user_alpha=0, item_alpha=0, random_state=42)\n",
    "#     half2_model.fit(half2_train, epochs=30, item_features=half2_features)\n",
    "#     half2_item_embeddings = half2_model.item_embeddings\n",
    "    \n",
    "#     # half2_model = PCA(n_components=100)\n",
    "#     # half2_item_embeddings = half2_model.fit_transform(half2_train.todense())\n",
    "    \n",
    "    \n",
    "#     correlations[:,:,i] = 1-cdist(half1_item_embeddings, half2_item_embeddings, metric='correlation')\n",
    "    \n",
    "# #     for c in range(100):\n",
    "# #         # half1_model.item_embeddings.shape, half2_model.item_embeddings.shape\n",
    "# #         pr = pearsonr(half1_item_embeddings[:,c], half2_item_embeddings[:,c])\n",
    "# #         this_correlations.append(pr.statistic)\n",
    "# #         this_pvalues.append(pr.pvalue)\n",
    "    \n",
    "# #     correlations.append(this_correlations)\n",
    "# #     pvalues.append(this_pvalues)    \n",
    "    "
   ]
  },
  {
   "cell_type": "code",
   "execution_count": 19,
   "id": "7a4b029b-e11c-499e-8aa5-5e23098fc1bb",
   "metadata": {},
   "outputs": [],
   "source": [
    "# sns.heatmap(correlations.mean(axis=2))"
   ]
  },
  {
   "cell_type": "code",
   "execution_count": 20,
   "id": "ceca2e8d-d51f-42f8-b17f-8b089f05f0b2",
   "metadata": {},
   "outputs": [],
   "source": [
    "# for c,p in zip(np.array(correlations).mean(axis=0), np.array(pvalues).mean(axis=0)):\n",
    "#     print(c,'\\t',p)"
   ]
  },
  {
   "cell_type": "code",
   "execution_count": 21,
   "id": "8e534e2d-14bb-41ab-bc02-e77a9e3f7a06",
   "metadata": {},
   "outputs": [],
   "source": [
    "# correlations = 1-cdist(half1_item_embeddings, half2_item_embeddings, metric='correlation')"
   ]
  },
  {
   "cell_type": "code",
   "execution_count": 22,
   "id": "6de7bc54-4e6e-476f-8050-b7bd46c6586c",
   "metadata": {},
   "outputs": [],
   "source": [
    "# from sklearn.cluster import k_means"
   ]
  },
  {
   "cell_type": "code",
   "execution_count": 23,
   "id": "0b2d3a81-1d62-4a1d-ba3c-3dff15d53548",
   "metadata": {},
   "outputs": [],
   "source": [
    "# cluster = k_means(correlations, n_clusters=10)"
   ]
  },
  {
   "cell_type": "code",
   "execution_count": null,
   "id": "2320a577-e7fa-4e91-a344-7c0941f84b52",
   "metadata": {},
   "outputs": [],
   "source": []
  },
  {
   "cell_type": "code",
   "execution_count": 24,
   "id": "0aa43407-e77c-44ea-b12b-7ac7e7e1d5f2",
   "metadata": {},
   "outputs": [],
   "source": [
    "# sns.heatmap(correlations[np.argsort(cluster[1]),:])"
   ]
  },
  {
   "cell_type": "code",
   "execution_count": null,
   "id": "c6dd0868-e09d-4f17-94ec-0a5745c4f3cc",
   "metadata": {},
   "outputs": [],
   "source": []
  },
  {
   "cell_type": "code",
   "execution_count": null,
   "id": "2ea6c40a-f9a1-401f-8458-87f5a25d3819",
   "metadata": {},
   "outputs": [],
   "source": []
  }
 ],
 "metadata": {
  "kernelspec": {
   "display_name": "Python 3 (ipykernel)",
   "language": "python",
   "name": "python3"
  },
  "language_info": {
   "codemirror_mode": {
    "name": "ipython",
    "version": 3
   },
   "file_extension": ".py",
   "mimetype": "text/x-python",
   "name": "python",
   "nbconvert_exporter": "python",
   "pygments_lexer": "ipython3",
   "version": "3.9.13"
  },
  "vscode": {
   "interpreter": {
    "hash": "31f2aee4e71d21fbe5cf8b01ff0e069b9275f58929596ceb00d14d90e3e16cd6"
   }
  }
 },
 "nbformat": 4,
 "nbformat_minor": 5
}
